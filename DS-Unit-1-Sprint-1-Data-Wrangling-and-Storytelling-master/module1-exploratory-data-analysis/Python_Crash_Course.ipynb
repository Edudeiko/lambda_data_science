{
 "cells": [
  {
   "cell_type": "markdown",
   "metadata": {
    "id": "2OA0ipUTL7vg",
    "tags": []
   },
   "source": [
    "# Python Crash Course \n",
    "Python is an extremely powerful general purpose tool for coding, and has been embraced by the data science community for its flexibility, object-oriented nature, and its inclusion of multiple standard libraries. \n",
    "\n",
    "Python's design philosophy emphasizes code readability with its notable use of significant indentation. (This means that blank spaces will matter to how you code.) "
   ]
  },
  {
   "cell_type": "markdown",
   "metadata": {
    "id": "nyfcPQE8NlXB"
   },
   "source": [
    "## How to Use Python in Colab Environment\n",
    "We will be using Colab for Unit 1. Colab is a Jupyter Notebook environment that runs on the cloud and stores files in your Google Drive. "
   ]
  },
  {
   "cell_type": "code",
   "execution_count": 1,
   "metadata": {
    "id": "o5vqXRatOjFJ"
   },
   "outputs": [
    {
     "data": {
      "text/plain": [
       "'Hello'"
      ]
     },
     "execution_count": 1,
     "metadata": {},
     "output_type": "execute_result"
    }
   ],
   "source": [
    "#run the following cell by clicking on the play button next to this text\n",
    "\"Hello\""
   ]
  },
  {
   "cell_type": "code",
   "execution_count": 2,
   "metadata": {
    "id": "ozOc4JNkOlm4"
   },
   "outputs": [
    {
     "data": {
      "text/plain": [
       "4"
      ]
     },
     "execution_count": 2,
     "metadata": {},
     "output_type": "execute_result"
    }
   ],
   "source": [
    "#run the following cell by clicking Shift + Return\n",
    "2+2"
   ]
  },
  {
   "cell_type": "markdown",
   "metadata": {
    "id": "sOlhzFOrO7d7"
   },
   "source": [
    "## Embrace the keyboard shortcuts: \n",
    "- Press 'esc' to enter navigation mode. \n",
    "- The keys 'a' and 'b' create code cells above and below your current cell when in navigation mode. \n",
    "- Click on the 'Tools' tab above to see additional short-cuts.\n",
    "- It's okay to use your mouse. You'll learn to code like a speedster with practice!"
   ]
  },
  {
   "cell_type": "markdown",
   "metadata": {
    "id": "mVRsE75BQTQT"
   },
   "source": [
    "## What is a Python Object? "
   ]
  },
  {
   "cell_type": "code",
   "execution_count": 3,
   "metadata": {
    "id": "aBaNkvRSQW1f"
   },
   "outputs": [
    {
     "data": {
      "text/plain": [
       "2"
      ]
     },
     "execution_count": 3,
     "metadata": {},
     "output_type": "execute_result"
    }
   ],
   "source": [
    "x = 2\n",
    "x"
   ]
  },
  {
   "cell_type": "code",
   "execution_count": 4,
   "metadata": {
    "id": "_g-c5FgISFTV"
   },
   "outputs": [],
   "source": [
    "y = 7"
   ]
  },
  {
   "cell_type": "code",
   "execution_count": 5,
   "metadata": {
    "id": "vDxsIEOSQX4_"
   },
   "outputs": [
    {
     "data": {
      "text/plain": [
       "9"
      ]
     },
     "execution_count": 5,
     "metadata": {},
     "output_type": "execute_result"
    }
   ],
   "source": [
    "x + y\n"
   ]
  },
  {
   "cell_type": "code",
   "execution_count": 6,
   "metadata": {
    "id": "4HmpQbqJQbdq"
   },
   "outputs": [
    {
     "data": {
      "text/plain": [
       "int"
      ]
     },
     "execution_count": 6,
     "metadata": {},
     "output_type": "execute_result"
    }
   ],
   "source": [
    "#What are built-in functions? \n",
    "type(x)"
   ]
  },
  {
   "cell_type": "code",
   "execution_count": 8,
   "metadata": {
    "id": "MAr6vWZuSRH7"
   },
   "outputs": [
    {
     "name": "stdout",
     "output_type": "stream",
     "text": [
      "Hello World\n",
      "7\n"
     ]
    },
    {
     "data": {
      "text/plain": [
       "2"
      ]
     },
     "execution_count": 8,
     "metadata": {},
     "output_type": "execute_result"
    }
   ],
   "source": [
    "#The print statement?\n",
    "print(\"Hello World\")\n",
    "\n",
    "#Difference between output and print statement.\n",
    "print(y)\n",
    "x\n",
    "#what happens when you include a print statement next to the y object? "
   ]
  },
  {
   "cell_type": "code",
   "execution_count": null,
   "metadata": {
    "id": "pLg6rgTeX-3u"
   },
   "outputs": [],
   "source": []
  },
  {
   "cell_type": "markdown",
   "metadata": {
    "id": "cNNIbyd7YAHM"
   },
   "source": [
    "## Operators"
   ]
  },
  {
   "cell_type": "code",
   "execution_count": 9,
   "metadata": {
    "id": "EKqBUjuEYBXs"
   },
   "outputs": [
    {
     "data": {
      "text/plain": [
       "9"
      ]
     },
     "execution_count": 9,
     "metadata": {},
     "output_type": "execute_result"
    }
   ],
   "source": [
    "x + y"
   ]
  },
  {
   "cell_type": "code",
   "execution_count": 10,
   "metadata": {
    "id": "VzIWW4W3YDDQ"
   },
   "outputs": [
    {
     "data": {
      "text/plain": [
       "-5"
      ]
     },
     "execution_count": 10,
     "metadata": {},
     "output_type": "execute_result"
    }
   ],
   "source": [
    "x - y "
   ]
  },
  {
   "cell_type": "code",
   "execution_count": 11,
   "metadata": {
    "id": "pFE4BkgFYGl6"
   },
   "outputs": [
    {
     "data": {
      "text/plain": [
       "14"
      ]
     },
     "execution_count": 11,
     "metadata": {},
     "output_type": "execute_result"
    }
   ],
   "source": [
    "x * y"
   ]
  },
  {
   "cell_type": "code",
   "execution_count": 12,
   "metadata": {
    "id": "LXqQIa6WYIUl"
   },
   "outputs": [
    {
     "data": {
      "text/plain": [
       "0.2857142857142857"
      ]
     },
     "execution_count": 12,
     "metadata": {},
     "output_type": "execute_result"
    }
   ],
   "source": [
    "x / y"
   ]
  },
  {
   "cell_type": "code",
   "execution_count": 13,
   "metadata": {
    "id": "UEOxqwFzYKGH"
   },
   "outputs": [
    {
     "data": {
      "text/plain": [
       "4"
      ]
     },
     "execution_count": 13,
     "metadata": {},
     "output_type": "execute_result"
    }
   ],
   "source": [
    "x**2"
   ]
  },
  {
   "cell_type": "code",
   "execution_count": 14,
   "metadata": {
    "id": "9creLzaVYOsC"
   },
   "outputs": [
    {
     "data": {
      "text/plain": [
       "2"
      ]
     },
     "execution_count": 14,
     "metadata": {},
     "output_type": "execute_result"
    }
   ],
   "source": [
    "y // 3"
   ]
  },
  {
   "cell_type": "code",
   "execution_count": 15,
   "metadata": {
    "id": "yvaU5vXEYgxl"
   },
   "outputs": [
    {
     "data": {
      "text/plain": [
       "1"
      ]
     },
     "execution_count": 15,
     "metadata": {},
     "output_type": "execute_result"
    }
   ],
   "source": [
    "y % 2"
   ]
  },
  {
   "cell_type": "code",
   "execution_count": 16,
   "metadata": {},
   "outputs": [
    {
     "data": {
      "text/plain": [
       "0"
      ]
     },
     "execution_count": 16,
     "metadata": {},
     "output_type": "execute_result"
    }
   ],
   "source": [
    "x % 2"
   ]
  },
  {
   "cell_type": "markdown",
   "metadata": {
    "id": "uC0D56kcSJPc"
   },
   "source": [
    "## Error Codes\n",
    "(...or How I learned to love my mistakes)"
   ]
  },
  {
   "cell_type": "code",
   "execution_count": 17,
   "metadata": {
    "id": "WcThChpOTKIK"
   },
   "outputs": [
    {
     "data": {
      "text/plain": [
       "'the number three'"
      ]
     },
     "execution_count": 17,
     "metadata": {},
     "output_type": "execute_result"
    }
   ],
   "source": [
    "z = \"the number three\"\n",
    "z"
   ]
  },
  {
   "cell_type": "code",
   "execution_count": 18,
   "metadata": {
    "id": "-VWc6m6NTOEa"
   },
   "outputs": [
    {
     "data": {
      "text/plain": [
       "str"
      ]
     },
     "execution_count": 18,
     "metadata": {},
     "output_type": "execute_result"
    }
   ],
   "source": [
    "type(z)"
   ]
  },
  {
   "cell_type": "code",
   "execution_count": 19,
   "metadata": {
    "id": "-SgSDeztS6gS"
   },
   "outputs": [
    {
     "ename": "TypeError",
     "evalue": "unsupported operand type(s) for +: 'int' and 'str'",
     "output_type": "error",
     "traceback": [
      "\u001b[0;31m---------------------------------------------------------------------------\u001b[0m",
      "\u001b[0;31mTypeError\u001b[0m                                 Traceback (most recent call last)",
      "\u001b[0;32m/var/folders/tv/19cwnzp15lq_5ykzmnqy9pxr0000gn/T/ipykernel_1755/211592085.py\u001b[0m in \u001b[0;36m<module>\u001b[0;34m\u001b[0m\n\u001b[1;32m      1\u001b[0m \u001b[0;31m#You're gonna get a lot of errors while you're learning to code, and that's okay!\u001b[0m\u001b[0;34m\u001b[0m\u001b[0;34m\u001b[0m\u001b[0m\n\u001b[0;32m----> 2\u001b[0;31m \u001b[0mx\u001b[0m \u001b[0;34m+\u001b[0m \u001b[0mz\u001b[0m\u001b[0;34m\u001b[0m\u001b[0;34m\u001b[0m\u001b[0m\n\u001b[0m",
      "\u001b[0;31mTypeError\u001b[0m: unsupported operand type(s) for +: 'int' and 'str'"
     ]
    }
   ],
   "source": [
    "#You're gonna get a lot of errors while you're learning to code, and that's okay!\n",
    "x + z"
   ]
  },
  {
   "cell_type": "markdown",
   "metadata": {
    "id": "M3MC-WynR_z1"
   },
   "source": [
    "## Data Types"
   ]
  },
  {
   "cell_type": "code",
   "execution_count": 20,
   "metadata": {
    "id": "T11vOxbsSBk-"
   },
   "outputs": [],
   "source": [
    "#intergers\n",
    "\n",
    "#strings\n",
    "\n",
    "#lists\n",
    "\n",
    "#dictionaries\n",
    "season_dict = {\"winter\" : 'cold', 'summer' : 'hot', 'fall' : 'colorful'}\n"
   ]
  },
  {
   "cell_type": "markdown",
   "metadata": {
    "id": "h6dlaFUMZg_j"
   },
   "source": [
    "## Object Methods and How To Use Them"
   ]
  },
  {
   "cell_type": "code",
   "execution_count": 21,
   "metadata": {
    "id": "MaFq4UEdZWBW"
   },
   "outputs": [
    {
     "data": {
      "text/plain": [
       "{'winter': 'cold', 'summer': 'hot', 'fall': 'colorful'}"
      ]
     },
     "execution_count": 21,
     "metadata": {},
     "output_type": "execute_result"
    }
   ],
   "source": [
    "season_dict"
   ]
  },
  {
   "cell_type": "markdown",
   "metadata": {
    "id": "LRXraioLM_9Q"
   },
   "source": [
    "### Imports"
   ]
  },
  {
   "cell_type": "code",
   "execution_count": null,
   "metadata": {
    "id": "0iiaYzyuL8ZV"
   },
   "outputs": [],
   "source": [
    "import this"
   ]
  },
  {
   "cell_type": "code",
   "execution_count": null,
   "metadata": {
    "id": "cQNbK6BhXbGb"
   },
   "outputs": [],
   "source": [
    "#The most popular data science libraries are numpy, pandas and matplotlib (for visualizations)"
   ]
  },
  {
   "cell_type": "markdown",
   "metadata": {
    "id": "aGIH8ZspMX0h"
   },
   "source": [
    "# Resources\n",
    "- https://www.python.org/about/gettingstarted/\n",
    "- https://en.wikipedia.org/wiki/Python_(programming_language)\n",
    "- https://en.wikipedia.org/wiki/Project_Jupyter#Google_Colaboratory"
   ]
  },
  {
   "cell_type": "code",
   "execution_count": null,
   "metadata": {
    "id": "IrK-Jhj6Y2cW"
   },
   "outputs": [],
   "source": []
  }
 ],
 "metadata": {
  "colab": {
   "collapsed_sections": [],
   "name": "Python_Crash_Course.ipynb",
   "provenance": []
  },
  "kernelspec": {
   "display_name": "Python 3 (ipykernel)",
   "language": "python",
   "name": "python3"
  },
  "language_info": {
   "codemirror_mode": {
    "name": "ipython",
    "version": 3
   },
   "file_extension": ".py",
   "mimetype": "text/x-python",
   "name": "python",
   "nbconvert_exporter": "python",
   "pygments_lexer": "ipython3",
   "version": "3.9.7"
  }
 },
 "nbformat": 4,
 "nbformat_minor": 4
}
