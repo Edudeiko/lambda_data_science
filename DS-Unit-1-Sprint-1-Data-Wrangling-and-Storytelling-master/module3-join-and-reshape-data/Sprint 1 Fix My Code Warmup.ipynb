{
 "cells": [
  {
   "cell_type": "markdown",
   "metadata": {
    "id": "qacqiXogluN_"
   },
   "source": [
    "#Can you fix my code?\n",
    "\n",
    "I tried to complete yesterday's project, but I have so many errors!  Can you find and fix them all?"
   ]
  },
  {
   "cell_type": "markdown",
   "metadata": {
    "id": "LZSXUzBm3yvk"
   },
   "source": [
    "# Let's continue to explore feature engineering with the Ames Housing data.  Import the dataset and name it \"house\".\n",
    "\n",
    "###1) Import the Ames Housing Data here: https://raw.githubusercontent.com/ryanleeallred/datasets/master/Ames%20Housing%20Data/train.csv"
   ]
  },
  {
   "cell_type": "code",
   "execution_count": null,
   "metadata": {
    "id": "GHK1_AnhVsh8"
   },
   "outputs": [],
   "source": [
    "import pandas \n",
    "\n",
    "house = pd.read_csv('https://raw.githubusercontent.com/ryanleeallred/datasets/master/Ames%20Housing%20Data/train.csv)"
   ]
  },
  {
   "cell_type": "markdown",
   "metadata": {
    "id": "Skyk7zl3V75m"
   },
   "source": [
    "###2) Print the first five rows of the house dataset."
   ]
  },
  {
   "cell_type": "code",
   "execution_count": null,
   "metadata": {
    "id": "dWWxoKPRWLWI"
   },
   "outputs": [],
   "source": [
    "house.head"
   ]
  },
  {
   "cell_type": "markdown",
   "metadata": {
    "id": "s1T9P_I0XJqa"
   },
   "source": [
    "###3) Create a new variable called Large_Lot that takes on the value 1 when LotArea is gerater than or equal to 10,000 and the value 0 when LotArea is less than 10,000."
   ]
  },
  {
   "cell_type": "code",
   "execution_count": null,
   "metadata": {
    "id": "ud09Dy0zreRB"
   },
   "outputs": [],
   "source": [
    "house.loc[house['LotArea'] >= 10000, 'Large_Lot'] = 0\n",
    "house.loc[house['LotArea'] < 10000, 'Large_Lot'] = 1\n",
    "\n",
    "house[['LotArea', 'Large_Lot']] "
   ]
  },
  {
   "cell_type": "markdown",
   "metadata": {
    "id": "sFduYJa5L-s4"
   },
   "source": [
    "###4) Create a new variable called Total_Bathrooms that contains the total number of full and half bathrooms in the house."
   ]
  },
  {
   "cell_type": "code",
   "execution_count": null,
   "metadata": {
    "id": "qzDon2puMCAy"
   },
   "outputs": [],
   "source": [
    "house['Total_Bathrooms'] = ['BsmtFullBath'] + ['BsmtHalfBath'] + ['FullBath']+ ['HalfBath']\n",
    "\n",
    "print(house[['Total_Bathrooms','BsmtFullBath','BsmtHalfBath','FullBath','HalfBath']])"
   ]
  },
  {
   "cell_type": "markdown",
   "metadata": {
    "id": "bnh-uoqYN29Q"
   },
   "source": [
    "###5) Create a new variable called Summer_Sale that equals 1 if the sale month was in June, July or August ( MoSold = 6, 7 or 8) and 0 if the sale month was in September - May."
   ]
  },
  {
   "cell_type": "code",
   "execution_count": null,
   "metadata": {
    "id": "4k0Qd30MP4OS"
   },
   "outputs": [],
   "source": [
    "house.loc[(house['MoSold'] >= 6 ) | (house['MoSold'] <= 8 ), 'Summer_Sale'] = 1 \n",
    "\n",
    "house.loc[(house['MoSold'] < 6) & (house['MoSold'] > 8), 'Summer_Sale'] = 0  \n",
    "\n",
    "house[['MoSold', 'Summer_Sale']] "
   ]
  },
  {
   "cell_type": "markdown",
   "metadata": {
    "id": "B_9CTa2QYcpu"
   },
   "source": [
    "#Now we'll revisit the LendingClub data.\n",
    "\n",
    "Remember to import the data by first unzipping the file:"
   ]
  },
  {
   "cell_type": "code",
   "execution_count": null,
   "metadata": {
    "id": "i_RRvbrDYslZ"
   },
   "outputs": [],
   "source": [
    "!wget https://resources.lendingclub.com/LoanStats_2018Q4.csv.zip"
   ]
  },
  {
   "cell_type": "code",
   "execution_count": null,
   "metadata": {
    "id": "hxUqtdlnY3oB"
   },
   "outputs": [],
   "source": [
    "!unzip LoanStats_2018Q4.csv.zip\n"
   ]
  },
  {
   "cell_type": "code",
   "execution_count": null,
   "metadata": {
    "id": "aQB-OhvAZZQC"
   },
   "outputs": [],
   "source": [
    "# Read in the CSV\n",
    "import pandas as pd\n",
    "df = pd.read_csv('LoanStats_2018Q4.csv', engine='python')\n",
    "\n",
    "print(df.shape)\n",
    "df.head()"
   ]
  },
  {
   "cell_type": "markdown",
   "metadata": {
    "id": "qnT_KD-MhLfg"
   },
   "source": [
    "#Approaching a problem two different ways.\n",
    "\n",
    "In the guided project, we learned how to find the earliest credit year using the built-in pandas date-time format.  However, there is often more than one way to come up with the same solution.  \n",
    "\n",
    "\n",
    "\n",
    "\n"
   ]
  },
  {
   "cell_type": "markdown",
   "metadata": {
    "id": "yuUB4pnFgbAr"
   },
   "source": [
    "\n",
    "In the following questions we will work through the steps to create a new variables called Earliest_Credit_Year and issue_year where we use the .split() function remove the month report back just the year as a float data type.  Then we'll use those variables to calculate the length of credit history in years.  "
   ]
  },
  {
   "cell_type": "markdown",
   "metadata": {
    "id": "P2Utc8Togc79"
   },
   "source": [
    "If we do everything correctly, we should calculate *about* the same length of longest credit history that we did in class working with the date-time format.  The answers won't exactly match because we are making different assumptions about when in each month and year the loans were taken out, but it will give you a flavor for different ways of approaching the same problem."
   ]
  },
  {
   "cell_type": "markdown",
   "metadata": {
    "id": "Lx0kHSTFhoKj"
   },
   "source": [
    "###6) Create a simple test case where credit = 'Jun-1979'.  \n",
    "\n",
    "Use the .split('-') function to separate the month and year parts of the data and print the year.\n",
    "\n",
    "Hint: Name the results of the .split('-') function \"fields\".  fields[0] will return the month part of the date and fields[1] will return the year part of the date."
   ]
  },
  {
   "cell_type": "code",
   "execution_count": null,
   "metadata": {
    "id": "y80jf99GaKsL"
   },
   "outputs": [],
   "source": [
    "credit = Jun-1979\n",
    "\n",
    "fields = credit.split('')\n",
    "month = fields[0]\n",
    "year = fields[1]\n",
    "\n",
    "print(float(year))\n"
   ]
  },
  {
   "cell_type": "markdown",
   "metadata": {
    "id": "TtC6exPui9y4"
   },
   "source": [
    "###7) Use your answer in 6) to write a function called credit_yr that takes in the contents of a cell formatted 'month-year' and returns the year.\n",
    "\n",
    "Run your function using the simple test case in 6)."
   ]
  },
  {
   "cell_type": "code",
   "execution_count": null,
   "metadata": {
    "id": "dtF2-tjogC6J"
   },
   "outputs": [],
   "source": [
    "def credit_yr(cell_contents):\n",
    "  fields = cell_contents.split('-')\n",
    "  month = fields\n",
    "  year = fields\n",
    "  year = float(year)\n",
    "  return year\n",
    "\n",
    "credit_yr(credit)\n",
    "\n"
   ]
  },
  {
   "cell_type": "markdown",
   "metadata": {
    "id": "a1XVfTOIjfrW"
   },
   "source": [
    "###8) Use the .apply() function to apply the function to every cell in the earliest_cr_line variable."
   ]
  },
  {
   "cell_type": "code",
   "execution_count": null,
   "metadata": {
    "id": "lZhlULhykCB_"
   },
   "outputs": [],
   "source": [
    "df['Earliest_Credit_Year'] = apply(credit_yr)"
   ]
  },
  {
   "cell_type": "markdown",
   "metadata": {
    "id": "ckSsAPccmvMQ"
   },
   "source": [
    "###9) Print the top 5 rows of the Earliest_Credit_Year and earliest_cr_line variables to make sure the variables were created correctly."
   ]
  },
  {
   "cell_type": "code",
   "execution_count": null,
   "metadata": {
    "id": "XLpUOqdgm4WQ"
   },
   "outputs": [],
   "source": [
    "df[['Earliest_Credit_Year','earliest_cr_line']].tail()"
   ]
  },
  {
   "cell_type": "markdown",
   "metadata": {
    "id": "w5vb0vQjg3Sj"
   },
   "source": [
    "### 10) Use your function to create a new variable called Issue_Year from the issue_d variable."
   ]
  },
  {
   "cell_type": "code",
   "execution_count": null,
   "metadata": {
    "id": "5sIn85mbg1pw"
   },
   "outputs": [],
   "source": [
    "df['issue_d'].apply(credit_yr)\n",
    "\n",
    "df[['Issue_Year','issue_d']].head()"
   ]
  },
  {
   "cell_type": "markdown",
   "metadata": {
    "id": "iZItgQjQiCh9"
   },
   "source": [
    "###11) Caluculate length of credit history in years and in days.\n",
    "\n",
    "Hint: If you are getting an error message, make sure to check the data type of the years output by your functions."
   ]
  },
  {
   "cell_type": "code",
   "execution_count": null,
   "metadata": {
    "colab": {
     "base_uri": "https://localhost:8080/",
     "height": 204
    },
    "executionInfo": {
     "elapsed": 771,
     "status": "ok",
     "timestamp": 1600605970388,
     "user": {
      "displayName": "Chelsea Myers",
      "photoUrl": "",
      "userId": "05871651112741478957"
     },
     "user_tz": 240
    },
    "id": "0mT7pG9hiTf2",
    "outputId": "9edfa70b-495c-40dd-9b1c-2e87da138732"
   },
   "outputs": [
    {
     "data": {
      "text/html": [
       "<div>\n",
       "<style scoped>\n",
       "    .dataframe tbody tr th:only-of-type {\n",
       "        vertical-align: middle;\n",
       "    }\n",
       "\n",
       "    .dataframe tbody tr th {\n",
       "        vertical-align: top;\n",
       "    }\n",
       "\n",
       "    .dataframe thead th {\n",
       "        text-align: right;\n",
       "    }\n",
       "</style>\n",
       "<table border=\"1\" class=\"dataframe\">\n",
       "  <thead>\n",
       "    <tr style=\"text-align: right;\">\n",
       "      <th></th>\n",
       "      <th>Issue_Year</th>\n",
       "      <th>Earliest_Credit_Year</th>\n",
       "      <th>Credit_History_Years</th>\n",
       "      <th>Credit_History_Days</th>\n",
       "    </tr>\n",
       "  </thead>\n",
       "  <tbody>\n",
       "    <tr>\n",
       "      <th>0</th>\n",
       "      <td>2018.0</td>\n",
       "      <td>1995.0</td>\n",
       "      <td>23.0</td>\n",
       "      <td>8400.75</td>\n",
       "    </tr>\n",
       "    <tr>\n",
       "      <th>1</th>\n",
       "      <td>2018.0</td>\n",
       "      <td>2007.0</td>\n",
       "      <td>11.0</td>\n",
       "      <td>4017.75</td>\n",
       "    </tr>\n",
       "    <tr>\n",
       "      <th>2</th>\n",
       "      <td>2018.0</td>\n",
       "      <td>1987.0</td>\n",
       "      <td>31.0</td>\n",
       "      <td>11322.75</td>\n",
       "    </tr>\n",
       "    <tr>\n",
       "      <th>3</th>\n",
       "      <td>2018.0</td>\n",
       "      <td>1997.0</td>\n",
       "      <td>21.0</td>\n",
       "      <td>7670.25</td>\n",
       "    </tr>\n",
       "    <tr>\n",
       "      <th>4</th>\n",
       "      <td>2018.0</td>\n",
       "      <td>2005.0</td>\n",
       "      <td>13.0</td>\n",
       "      <td>4748.25</td>\n",
       "    </tr>\n",
       "  </tbody>\n",
       "</table>\n",
       "</div>"
      ],
      "text/plain": [
       "   Issue_Year  Earliest_Credit_Year  Credit_History_Years  Credit_History_Days\n",
       "0      2018.0                1995.0                  23.0              8400.75\n",
       "1      2018.0                2007.0                  11.0              4017.75\n",
       "2      2018.0                1987.0                  31.0             11322.75\n",
       "3      2018.0                1997.0                  21.0              7670.25\n",
       "4      2018.0                2005.0                  13.0              4748.25"
      ]
     },
     "execution_count": 17,
     "metadata": {
      "tags": []
     },
     "output_type": "execute_result"
    }
   ],
   "source": [
    "['Credit_History_Years'] = ['Issue_Year'] - ['Earliest_Credit_Year']\n",
    "['Credit_History_Days'] = ['Credit_History_Years'] * 365.25\n",
    "\n",
    "[['Issue_Year','Earliest_Credit_Year','Credit_History_Years','Credit_History_Days']].head()"
   ]
  },
  {
   "cell_type": "markdown",
   "metadata": {
    "id": "PvcOSw9gjUzF"
   },
   "source": [
    "###12) Calculate the maximum credit length and compare it to we got in the guided project.  \n",
    "\n",
    "Note - it won't be *exactly* the same because both methods are working in different ways, but they will give you a \"pretty close\" answer."
   ]
  },
  {
   "cell_type": "code",
   "execution_count": null,
   "metadata": {
    "id": "gmNFZzaQjdQi"
   },
   "outputs": [],
   "source": [
    "df['Credit_History_Years'].max"
   ]
  }
 ],
 "metadata": {
  "colab": {
   "collapsed_sections": [],
   "name": "Sprint 1 Fix My Code.ipynb",
   "provenance": [
    {
     "file_id": "1A53Hr-gR1qIWYibp5p0DEfQi0d-kSYfD",
     "timestamp": 1605807262351
    },
    {
     "file_id": "1eiAw_Yt52kMWxQfmTxzUTcbjusK5VueC",
     "timestamp": 1600383598651
    },
    {
     "file_id": "https://github.com/ryanleeallred/DS-Unit-1-Sprint-1-Data-Wrangling-and-Storytelling/blob/master/module2-make-features/LS_DS_112_Make_Features.ipynb",
     "timestamp": 1600341710328
    }
   ]
  },
  "kernelspec": {
   "display_name": "Python 3 (ipykernel)",
   "language": "python",
   "name": "python3"
  },
  "language_info": {
   "codemirror_mode": {
    "name": "ipython",
    "version": 3
   },
   "file_extension": ".py",
   "mimetype": "text/x-python",
   "name": "python",
   "nbconvert_exporter": "python",
   "pygments_lexer": "ipython3",
   "version": "3.10.4"
  }
 },
 "nbformat": 4,
 "nbformat_minor": 4
}
