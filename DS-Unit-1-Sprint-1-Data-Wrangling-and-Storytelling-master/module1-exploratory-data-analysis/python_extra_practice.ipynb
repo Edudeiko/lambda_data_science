{
 "cells": [
  {
   "cell_type": "markdown",
   "id": "5c59d9b0",
   "metadata": {},
   "source": [
    "\n",
    "# Python Challenges"
   ]
  },
  {
   "cell_type": "markdown",
   "id": "b8176d9d",
   "metadata": {},
   "source": [
    "\n",
    "### Pace Your Learning!\n",
    "We cover a lot of content! Give yourself time to practice the Python basics with the following exercises."
   ]
  },
  {
   "cell_type": "markdown",
   "id": "87b1b673",
   "metadata": {},
   "source": [
    "## Part 1: Numbers and Calculations\n",
    "\n"
   ]
  },
  {
   "cell_type": "markdown",
   "id": "118ffad9",
   "metadata": {},
   "source": [
    "1) What is 8675309 plus 42?"
   ]
  },
  {
   "cell_type": "code",
   "execution_count": 1,
   "id": "f60b720a",
   "metadata": {},
   "outputs": [
    {
     "data": {
      "text/plain": [
       "8675351"
      ]
     },
     "execution_count": 1,
     "metadata": {},
     "output_type": "execute_result"
    }
   ],
   "source": [
    "8675309 + 42"
   ]
  },
  {
   "cell_type": "markdown",
   "id": "2fe8065e",
   "metadata": {},
   "source": [
    "2) Create a variable called `base` that is equal to 12."
   ]
  },
  {
   "cell_type": "code",
   "execution_count": 2,
   "id": "24494459",
   "metadata": {},
   "outputs": [
    {
     "data": {
      "text/plain": [
       "12"
      ]
     },
     "execution_count": 2,
     "metadata": {},
     "output_type": "execute_result"
    }
   ],
   "source": [
    "base = 12\n",
    "base"
   ]
  },
  {
   "cell_type": "markdown",
   "id": "52bf5f47",
   "metadata": {},
   "source": [
    "3) Create a variable called `height` that is equal to 15. "
   ]
  },
  {
   "cell_type": "code",
   "execution_count": 3,
   "id": "11dadc81",
   "metadata": {},
   "outputs": [
    {
     "data": {
      "text/plain": [
       "15"
      ]
     },
     "execution_count": 3,
     "metadata": {},
     "output_type": "execute_result"
    }
   ],
   "source": [
    "height = 15\n",
    "height"
   ]
  },
  {
   "cell_type": "markdown",
   "id": "63170e39",
   "metadata": {},
   "source": [
    "4) Measure the area of a right triangle using the variables created above. Save this to a variable called `right_tri_area`.\n",
    "\n",
    "[How to find the area of a right triangle](https://www.varsitytutors.com/basic_geometry-help/how-to-find-the-area-of-a-right-triangle)\n"
   ]
  },
  {
   "cell_type": "markdown",
   "id": "e483a4f8",
   "metadata": {},
   "source": [
    "Use the following image for the next exercises.\n",
    "\n",
    "Remeber the equation for the area of a circle with a radius is **$r$ = $A = \\pi r^2$** \n",
    "\n",
    "![](imgs/circle.png)"
   ]
  },
  {
   "cell_type": "code",
   "execution_count": 7,
   "id": "b4026c26-00ca-494e-82ab-e3932df7217c",
   "metadata": {},
   "outputs": [],
   "source": [
    "right_tri_area = (1/2) * (base) * (height)"
   ]
  },
  {
   "cell_type": "markdown",
   "id": "3c01024c",
   "metadata": {},
   "source": [
    "5) Create a variable for `pi` that is equal to `3.14`. "
   ]
  },
  {
   "cell_type": "code",
   "execution_count": 9,
   "id": "9baa6357",
   "metadata": {},
   "outputs": [
    {
     "data": {
      "text/plain": [
       "3.14"
      ]
     },
     "execution_count": 9,
     "metadata": {},
     "output_type": "execute_result"
    }
   ],
   "source": [
    "pi = 3.14\n",
    "pi"
   ]
  },
  {
   "cell_type": "markdown",
   "id": "e92693cb",
   "metadata": {},
   "source": [
    "6) Create a variable called`r` for the radius of the small (inner) circle that measures `3`. "
   ]
  },
  {
   "cell_type": "code",
   "execution_count": 11,
   "id": "8870c812",
   "metadata": {},
   "outputs": [
    {
     "data": {
      "text/plain": [
       "3"
      ]
     },
     "execution_count": 11,
     "metadata": {},
     "output_type": "execute_result"
    }
   ],
   "source": [
    "r = 3\n",
    "r"
   ]
  },
  {
   "cell_type": "markdown",
   "id": "2e493d28",
   "metadata": {},
   "source": [
    "7) Create a variable called `R` for the radius of the full circle (including the inner circle) that is equal to `8`. "
   ]
  },
  {
   "cell_type": "code",
   "execution_count": 12,
   "id": "80f86f53",
   "metadata": {},
   "outputs": [
    {
     "data": {
      "text/plain": [
       "8"
      ]
     },
     "execution_count": 12,
     "metadata": {},
     "output_type": "execute_result"
    }
   ],
   "source": [
    "R = 8\n",
    "R"
   ]
  },
  {
   "cell_type": "markdown",
   "id": "3fbb689a",
   "metadata": {},
   "source": [
    "8) Calculate the area of the small circle. Assign it to a variable called `sml_area`. "
   ]
  },
  {
   "cell_type": "code",
   "execution_count": 16,
   "id": "ac74b0d9",
   "metadata": {},
   "outputs": [
    {
     "data": {
      "text/plain": [
       "28.26"
      ]
     },
     "execution_count": 16,
     "metadata": {},
     "output_type": "execute_result"
    }
   ],
   "source": [
    "sml_area = pi * r**2\n",
    "sml_area"
   ]
  },
  {
   "cell_type": "markdown",
   "id": "a4208eed",
   "metadata": {},
   "source": [
    "\n",
    "9) Calculate the area of the full circle. Assign it to a variable called `full_area`. "
   ]
  },
  {
   "cell_type": "code",
   "execution_count": 20,
   "id": "8bc3c993",
   "metadata": {},
   "outputs": [
    {
     "data": {
      "text/plain": [
       "200.96"
      ]
     },
     "execution_count": 20,
     "metadata": {},
     "output_type": "execute_result"
    }
   ],
   "source": [
    "full_area = pi * R**2\n",
    "full_area"
   ]
  },
  {
   "cell_type": "markdown",
   "id": "8581a2cf",
   "metadata": {},
   "source": [
    "\n",
    "10) Calculate the area of only the outer circle (do not include the inner circle). Assign it to a variable called `outer_area`. "
   ]
  },
  {
   "cell_type": "code",
   "execution_count": 21,
   "id": "4a7f4a92",
   "metadata": {},
   "outputs": [
    {
     "data": {
      "text/plain": [
       "78.5"
      ]
     },
     "execution_count": 21,
     "metadata": {},
     "output_type": "execute_result"
    }
   ],
   "source": [
    "outer_area = pi * (R - r)**2\n",
    "outer_area"
   ]
  },
  {
   "cell_type": "markdown",
   "id": "c58f4372",
   "metadata": {},
   "source": [
    "\n",
    "11) Calculate the perimeter of the outer circle.\n",
    "\n",
    "[How to find the perimeter of a circle](https://sciencing.com/perimeter-circle-4487756.html)"
   ]
  },
  {
   "cell_type": "code",
   "execution_count": 23,
   "id": "b97afee0",
   "metadata": {},
   "outputs": [
    {
     "data": {
      "text/plain": [
       "50.24"
      ]
     },
     "execution_count": 23,
     "metadata": {},
     "output_type": "execute_result"
    }
   ],
   "source": [
    "pi * (2 * R)"
   ]
  },
  {
   "cell_type": "markdown",
   "id": "a964a483",
   "metadata": {},
   "source": [
    "## Part 2: String and Indexing"
   ]
  },
  {
   "cell_type": "markdown",
   "id": "b52b2ccb",
   "metadata": {},
   "source": [
    "12) Create a variable called `my_name` and assing your name to it. "
   ]
  },
  {
   "cell_type": "code",
   "execution_count": 24,
   "id": "ecfb04f3",
   "metadata": {},
   "outputs": [],
   "source": [
    "my_name = \"Julian\""
   ]
  },
  {
   "cell_type": "markdown",
   "id": "490c16c1",
   "metadata": {},
   "source": [
    "13) Note that the `my_name` string has a number of assiged methods that will return changes to the object. Click and study the following link. \n",
    "\n",
    "[Python String Documentation](https://www.w3schools.com/python/python_ref_string.asp)"
   ]
  },
  {
   "cell_type": "markdown",
   "id": "89d5810a",
   "metadata": {},
   "source": [
    "14) Uppercase all the letters in the `my_name` variable. "
   ]
  },
  {
   "cell_type": "code",
   "execution_count": 26,
   "id": "52fcf596",
   "metadata": {},
   "outputs": [
    {
     "data": {
      "text/plain": [
       "'JULIAN'"
      ]
     },
     "execution_count": 26,
     "metadata": {},
     "output_type": "execute_result"
    }
   ],
   "source": [
    "my_name.upper()"
   ]
  },
  {
   "cell_type": "markdown",
   "id": "c55ad554",
   "metadata": {},
   "source": [
    "15) Lowercase all the letters in the `my_name` variable. "
   ]
  },
  {
   "cell_type": "code",
   "execution_count": 28,
   "id": "82fc024b",
   "metadata": {},
   "outputs": [
    {
     "data": {
      "text/plain": [
       "'julian'"
      ]
     },
     "execution_count": 28,
     "metadata": {},
     "output_type": "execute_result"
    }
   ],
   "source": [
    "my_name.lower()"
   ]
  },
  {
   "cell_type": "markdown",
   "id": "4c57f7c3",
   "metadata": {},
   "source": [
    "16) Use the `.count` method to output the number of letters in `my_name`"
   ]
  },
  {
   "cell_type": "code",
   "execution_count": 51,
   "id": "e6801852",
   "metadata": {},
   "outputs": [
    {
     "data": {
      "text/plain": [
       "1"
      ]
     },
     "execution_count": 51,
     "metadata": {},
     "output_type": "execute_result"
    }
   ],
   "source": [
    "my_name.count(my_name)"
   ]
  },
  {
   "cell_type": "markdown",
   "id": "bf74b929",
   "metadata": {},
   "source": [
    "17) Use the len() function to output the number of letters in `my_name`. \n"
   ]
  },
  {
   "cell_type": "code",
   "execution_count": 36,
   "id": "926e8d01",
   "metadata": {},
   "outputs": [
    {
     "data": {
      "text/plain": [
       "6"
      ]
     },
     "execution_count": 36,
     "metadata": {},
     "output_type": "execute_result"
    }
   ],
   "source": [
    "len(my_name)"
   ]
  },
  {
   "cell_type": "markdown",
   "id": "da384314",
   "metadata": {},
   "source": [
    "18) Create a variable called `intro` and assign the string `\"My name is: \"` "
   ]
  },
  {
   "cell_type": "code",
   "execution_count": 48,
   "id": "a887163d",
   "metadata": {},
   "outputs": [],
   "source": [
    "intro = \"My name is: \""
   ]
  },
  {
   "cell_type": "markdown",
   "id": "2233185b",
   "metadata": {},
   "source": [
    "19) Using the `print` function, join the two variables above to complete the statement. "
   ]
  },
  {
   "cell_type": "code",
   "execution_count": 49,
   "id": "4bf81e0e",
   "metadata": {},
   "outputs": [
    {
     "name": "stdout",
     "output_type": "stream",
     "text": [
      "My name is:  Julian\n"
     ]
    }
   ],
   "source": [
    "print(intro, my_name)"
   ]
  },
  {
   "cell_type": "markdown",
   "id": "6113294b",
   "metadata": {},
   "source": [
    "20) You can use string indexing to select specific characters from a string. Click and study the following link. \n",
    "\n",
    "[String Indexing](https://realpython.com/lessons/string-indexing/)"
   ]
  },
  {
   "cell_type": "code",
   "execution_count": 53,
   "id": "821006f0",
   "metadata": {},
   "outputs": [
    {
     "data": {
      "text/plain": [
       "'n'"
      ]
     },
     "execution_count": 53,
     "metadata": {},
     "output_type": "execute_result"
    }
   ],
   "source": [
    "my_name[-1]"
   ]
  },
  {
   "cell_type": "markdown",
   "id": "fca41448",
   "metadata": {},
   "source": [
    "21) Using string indexing, output the first letter of your name. "
   ]
  },
  {
   "cell_type": "code",
   "execution_count": 54,
   "id": "cb45d8a1",
   "metadata": {},
   "outputs": [
    {
     "data": {
      "text/plain": [
       "'J'"
      ]
     },
     "execution_count": 54,
     "metadata": {},
     "output_type": "execute_result"
    }
   ],
   "source": [
    "my_name[0]"
   ]
  },
  {
   "cell_type": "markdown",
   "id": "2da063c0",
   "metadata": {},
   "source": [
    "22) Using string indexing, output the last letter of your name. "
   ]
  },
  {
   "cell_type": "code",
   "execution_count": 55,
   "id": "b7eeeaa9",
   "metadata": {},
   "outputs": [
    {
     "data": {
      "text/plain": [
       "'n'"
      ]
     },
     "execution_count": 55,
     "metadata": {},
     "output_type": "execute_result"
    }
   ],
   "source": [
    "my_name[-1]"
   ]
  },
  {
   "cell_type": "markdown",
   "id": "60decd90",
   "metadata": {},
   "source": [
    "23) Using string indexing, output the first three letters of your name. \n"
   ]
  },
  {
   "cell_type": "code",
   "execution_count": 56,
   "id": "abc3d81e",
   "metadata": {},
   "outputs": [
    {
     "data": {
      "text/plain": [
       "'Jul'"
      ]
     },
     "execution_count": 56,
     "metadata": {},
     "output_type": "execute_result"
    }
   ],
   "source": [
    "my_name[:3]"
   ]
  },
  {
   "cell_type": "markdown",
   "id": "2c5b3b30",
   "metadata": {},
   "source": [
    "24) Using string indexing, output the middle two letters of your name. "
   ]
  },
  {
   "cell_type": "code",
   "execution_count": 58,
   "id": "79aa71a1",
   "metadata": {},
   "outputs": [
    {
     "data": {
      "text/plain": [
       "'li'"
      ]
     },
     "execution_count": 58,
     "metadata": {},
     "output_type": "execute_result"
    }
   ],
   "source": [
    "my_name[2:4]"
   ]
  },
  {
   "cell_type": "markdown",
   "id": "021d9e54",
   "metadata": {},
   "source": [
    "25) Using string indexing, output only every other letter of your name."
   ]
  },
  {
   "cell_type": "code",
   "execution_count": 131,
   "id": "a6207015",
   "metadata": {},
   "outputs": [
    {
     "data": {
      "text/plain": [
       "'Jla'"
      ]
     },
     "execution_count": 131,
     "metadata": {},
     "output_type": "execute_result"
    }
   ],
   "source": [
    "my_name[0::2]"
   ]
  },
  {
   "cell_type": "markdown",
   "id": "5028217e",
   "metadata": {},
   "source": [
    "## Part 3 : Lists and Indexing\n",
    "For guideance, check this [site](https://www.w3schools.com/python/python_ref_list.asp)."
   ]
  },
  {
   "cell_type": "code",
   "execution_count": 107,
   "id": "c6623dcc",
   "metadata": {},
   "outputs": [
    {
     "data": {
      "text/plain": [
       "['red', 'orange', 'green', 'blue']"
      ]
     },
     "execution_count": 107,
     "metadata": {},
     "output_type": "execute_result"
    }
   ],
   "source": [
    "colors = [\"red\", \"orange\", \"green\", \"blue\"]\n",
    "colors"
   ]
  },
  {
   "cell_type": "markdown",
   "id": "eb9c2a1c",
   "metadata": {},
   "source": [
    "26) Use the sort method to organize the list in alphabetically order. "
   ]
  },
  {
   "cell_type": "code",
   "execution_count": 108,
   "id": "48d24934",
   "metadata": {},
   "outputs": [],
   "source": [
    "colors.sort()"
   ]
  },
  {
   "cell_type": "code",
   "execution_count": 109,
   "id": "d8105fcb-52af-450c-95c3-c7b6178fc49d",
   "metadata": {},
   "outputs": [
    {
     "data": {
      "text/plain": [
       "['blue', 'green', 'orange', 'red']"
      ]
     },
     "execution_count": 109,
     "metadata": {},
     "output_type": "execute_result"
    }
   ],
   "source": [
    "colors"
   ]
  },
  {
   "cell_type": "markdown",
   "id": "f9eb92f1",
   "metadata": {},
   "source": [
    "27) Remove the last item in the `colors` list. "
   ]
  },
  {
   "cell_type": "code",
   "execution_count": 110,
   "id": "aabf5f74",
   "metadata": {},
   "outputs": [
    {
     "data": {
      "text/plain": [
       "'red'"
      ]
     },
     "execution_count": 110,
     "metadata": {},
     "output_type": "execute_result"
    }
   ],
   "source": [
    "colors.pop()"
   ]
  },
  {
   "cell_type": "code",
   "execution_count": 111,
   "id": "06aadf9d-ca60-4fca-adf3-e9cbf8ee0233",
   "metadata": {},
   "outputs": [
    {
     "data": {
      "text/plain": [
       "['blue', 'green', 'orange']"
      ]
     },
     "execution_count": 111,
     "metadata": {},
     "output_type": "execute_result"
    }
   ],
   "source": [
    "colors"
   ]
  },
  {
   "cell_type": "markdown",
   "id": "c2e9b2c6",
   "metadata": {},
   "source": [
    "28) Remove the color `orange` from the list. "
   ]
  },
  {
   "cell_type": "code",
   "execution_count": 112,
   "id": "535bfae6",
   "metadata": {},
   "outputs": [],
   "source": [
    "colors.remove('orange')"
   ]
  },
  {
   "cell_type": "code",
   "execution_count": 113,
   "id": "dccaf710-1cff-49a7-be78-279589ef29f2",
   "metadata": {},
   "outputs": [
    {
     "data": {
      "text/plain": [
       "['blue', 'green']"
      ]
     },
     "execution_count": 113,
     "metadata": {},
     "output_type": "execute_result"
    }
   ],
   "source": [
    "colors"
   ]
  },
  {
   "cell_type": "markdown",
   "id": "c166b1ff",
   "metadata": {},
   "source": [
    "29) Insert the color `yellow` in the list as the second item in the list. "
   ]
  },
  {
   "cell_type": "code",
   "execution_count": 114,
   "id": "8d39b3b7",
   "metadata": {},
   "outputs": [],
   "source": [
    "colors.insert(1, 'yellow')"
   ]
  },
  {
   "cell_type": "code",
   "execution_count": 115,
   "id": "eecf5f22",
   "metadata": {},
   "outputs": [
    {
     "data": {
      "text/plain": [
       "['blue', 'yellow', 'green']"
      ]
     },
     "execution_count": 115,
     "metadata": {},
     "output_type": "execute_result"
    }
   ],
   "source": [
    "colors"
   ]
  },
  {
   "cell_type": "markdown",
   "id": "d059476f",
   "metadata": {},
   "source": [
    "30) Create an empty list called `more_colors`. \n",
    "\n",
    "*Hint:* Empty lists can be created by assigning a [] to a variable"
   ]
  },
  {
   "cell_type": "code",
   "execution_count": 116,
   "id": "a5f85e6a",
   "metadata": {},
   "outputs": [],
   "source": [
    "more_colors = []"
   ]
  },
  {
   "cell_type": "code",
   "execution_count": 117,
   "id": "e2ce4fdf",
   "metadata": {},
   "outputs": [],
   "source": [
    "# one way\n",
    "more_colors.append('indigo')\n",
    "more_colors.append('vermillion')\n",
    "more_colors.append('cyan')\n",
    "more_colors.append('teal')"
   ]
  },
  {
   "cell_type": "code",
   "execution_count": 118,
   "id": "ac47995a-5899-4ace-847d-4b629238057d",
   "metadata": {},
   "outputs": [
    {
     "data": {
      "text/plain": [
       "['indigo', 'vermillion', 'cyan', 'teal']"
      ]
     },
     "execution_count": 118,
     "metadata": {},
     "output_type": "execute_result"
    }
   ],
   "source": [
    "more_colors"
   ]
  },
  {
   "cell_type": "markdown",
   "id": "2b60e977",
   "metadata": {},
   "source": [
    "31) Add the colors `'indigo', 'vermillion', 'cyan', 'teal'` to the `more_colors` list.  "
   ]
  },
  {
   "cell_type": "code",
   "execution_count": 102,
   "id": "7f66622f",
   "metadata": {
    "tags": []
   },
   "outputs": [
    {
     "data": {
      "text/plain": [
       "[None, None, None, None]"
      ]
     },
     "execution_count": 102,
     "metadata": {},
     "output_type": "execute_result"
    }
   ],
   "source": [
    "adding_list = ['indigo', 'vermillion', 'cyan', 'teal']\n",
    "               \n",
    "[more_colors.append(i) for i in adding_list]\n",
    "\n",
    "# more_colors\n",
    "\n",
    "# another way\n",
    "# more_colors.append('indigo')\n",
    "# more_colors.append('vermillion')\n",
    "# more_colors.append('cyan')\n",
    "# more_colors.append('teal')"
   ]
  },
  {
   "cell_type": "code",
   "execution_count": 119,
   "id": "19510a39-1345-4dfb-9b65-6c9b35bd527e",
   "metadata": {},
   "outputs": [
    {
     "data": {
      "text/plain": [
       "['indigo', 'vermillion', 'cyan', 'teal']"
      ]
     },
     "execution_count": 119,
     "metadata": {},
     "output_type": "execute_result"
    }
   ],
   "source": [
    "more_colors"
   ]
  },
  {
   "cell_type": "markdown",
   "id": "e6cbec74",
   "metadata": {},
   "source": [
    "32) Add the `more_colors` list to the end of the `colors` list. \n",
    "\n",
    "*Hint*\n",
    "Your final output should be `['blue', 'yellow', 'green', 'indigo', 'vermillion', 'cyan', 'teal']`"
   ]
  },
  {
   "cell_type": "code",
   "execution_count": 120,
   "id": "13e1b8fc",
   "metadata": {},
   "outputs": [
    {
     "data": {
      "text/plain": [
       "['blue', 'yellow', 'green']"
      ]
     },
     "execution_count": 120,
     "metadata": {},
     "output_type": "execute_result"
    }
   ],
   "source": [
    "colors"
   ]
  },
  {
   "cell_type": "code",
   "execution_count": 121,
   "id": "142eab9c-66e3-479d-848e-5ebfacde3b89",
   "metadata": {},
   "outputs": [
    {
     "data": {
      "text/plain": [
       "[None, None, None, None]"
      ]
     },
     "execution_count": 121,
     "metadata": {},
     "output_type": "execute_result"
    }
   ],
   "source": [
    "[colors.append(i) for i in more_colors]"
   ]
  },
  {
   "cell_type": "code",
   "execution_count": 122,
   "id": "fddb5faf-d6f5-4e26-9b6a-4d92f9cd3423",
   "metadata": {},
   "outputs": [
    {
     "data": {
      "text/plain": [
       "['blue', 'yellow', 'green', 'indigo', 'vermillion', 'cyan', 'teal']"
      ]
     },
     "execution_count": 122,
     "metadata": {},
     "output_type": "execute_result"
    }
   ],
   "source": [
    "colors"
   ]
  },
  {
   "cell_type": "markdown",
   "id": "4485343a",
   "metadata": {},
   "source": [
    "**Use list indexing and the list in the next cell for the following exercises.**"
   ]
  },
  {
   "cell_type": "code",
   "execution_count": 125,
   "id": "547614f1",
   "metadata": {},
   "outputs": [],
   "source": [
    "puzzle_list = [\"purple\", my_name, [2, 3, 6, 11, 5], \"gray\", {\"Lambda\": \"Student\"}, \n",
    "               ['Box', [\"cat\", \"shrodinger\", \"poison\"]]]"
   ]
  },
  {
   "cell_type": "code",
   "execution_count": 126,
   "id": "a849019a-15eb-4a7f-ba57-b044b0b65ec2",
   "metadata": {},
   "outputs": [
    {
     "data": {
      "text/plain": [
       "['purple',\n",
       " 'Julian',\n",
       " [2, 3, 6, 11, 5],\n",
       " 'gray',\n",
       " {'Lambda': 'Student'},\n",
       " ['Box', ['cat', 'shrodinger', 'poison']]]"
      ]
     },
     "execution_count": 126,
     "metadata": {},
     "output_type": "execute_result"
    }
   ],
   "source": [
    "puzzle_list"
   ]
  },
  {
   "cell_type": "markdown",
   "id": "9a217aff",
   "metadata": {},
   "source": [
    "33) Output the first item in the list. "
   ]
  },
  {
   "cell_type": "code",
   "execution_count": 127,
   "id": "516a9722",
   "metadata": {},
   "outputs": [
    {
     "data": {
      "text/plain": [
       "'purple'"
      ]
     },
     "execution_count": 127,
     "metadata": {},
     "output_type": "execute_result"
    }
   ],
   "source": [
    "puzzle_list[0]"
   ]
  },
  {
   "cell_type": "markdown",
   "id": "10d2d124",
   "metadata": {},
   "source": [
    "34) Output the last item in the list."
   ]
  },
  {
   "cell_type": "code",
   "execution_count": 128,
   "id": "bac8235c",
   "metadata": {},
   "outputs": [
    {
     "data": {
      "text/plain": [
       "['Box', ['cat', 'shrodinger', 'poison']]"
      ]
     },
     "execution_count": 128,
     "metadata": {},
     "output_type": "execute_result"
    }
   ],
   "source": [
    "puzzle_list[-1]"
   ]
  },
  {
   "cell_type": "markdown",
   "id": "ba3d6c21",
   "metadata": {},
   "source": [
    "35) Output every third item in the list, starting with the second item. "
   ]
  },
  {
   "cell_type": "code",
   "execution_count": 129,
   "id": "8d960391",
   "metadata": {},
   "outputs": [
    {
     "data": {
      "text/plain": [
       "['Julian', {'Lambda': 'Student'}]"
      ]
     },
     "execution_count": 129,
     "metadata": {},
     "output_type": "execute_result"
    }
   ],
   "source": [
    "puzzle_list[1::3]"
   ]
  },
  {
   "cell_type": "markdown",
   "id": "9ac3f630",
   "metadata": {},
   "source": [
    "36) Output only the item `'cat'` from the list. "
   ]
  },
  {
   "cell_type": "code",
   "execution_count": 135,
   "id": "33e8e579",
   "metadata": {},
   "outputs": [
    {
     "data": {
      "text/plain": [
       "'cat'"
      ]
     },
     "execution_count": 135,
     "metadata": {},
     "output_type": "execute_result"
    }
   ],
   "source": [
    "puzzle_list[5][1][0]"
   ]
  },
  {
   "cell_type": "markdown",
   "id": "49b828fd",
   "metadata": {},
   "source": [
    "\n",
    "## Part 4: Conditionals and Loops"
   ]
  },
  {
   "cell_type": "markdown",
   "id": "937d23cf",
   "metadata": {},
   "source": [
    "37) Alter the following line of code to change the output to `True`. "
   ]
  },
  {
   "cell_type": "code",
   "execution_count": 136,
   "id": "46fd31a2",
   "metadata": {},
   "outputs": [
    {
     "data": {
      "text/plain": [
       "False"
      ]
     },
     "execution_count": 136,
     "metadata": {},
     "output_type": "execute_result"
    }
   ],
   "source": [
    "47 > 50"
   ]
  },
  {
   "cell_type": "markdown",
   "id": "f5259aed",
   "metadata": {},
   "source": [
    "38) Create a variable called `car_speed` and set its value to be equal to 55. "
   ]
  },
  {
   "cell_type": "code",
   "execution_count": 137,
   "id": "2a606c92",
   "metadata": {},
   "outputs": [],
   "source": [
    "car_speed = 55"
   ]
  },
  {
   "cell_type": "markdown",
   "id": "1ee36356",
   "metadata": {},
   "source": [
    "39) Replace the underscore in the following statement with the operator required to print `\"Pull over\"`"
   ]
  },
  {
   "cell_type": "code",
   "execution_count": 138,
   "id": "f4265dee",
   "metadata": {
    "tags": []
   },
   "outputs": [
    {
     "name": "stdout",
     "output_type": "stream",
     "text": [
      "Pull over\n"
     ]
    }
   ],
   "source": [
    "if car_speed >= 55:\n",
    "    print(\"Pull over\")\n",
    "else:\n",
    "    print(\"Ignore\")\n"
   ]
  },
  {
   "cell_type": "markdown",
   "id": "80da552e",
   "metadata": {},
   "source": [
    "39) Use the `input()` [function](https://www.w3schools.com/python/ref_func_input.asp) to reassign the value of car_speed to 45. \n",
    "\n",
    "*Hint:* You will need to surround the `input` function with the `int()` function to transform the value from a string to a number. "
   ]
  },
  {
   "cell_type": "code",
   "execution_count": 140,
   "id": "3c136bcb",
   "metadata": {},
   "outputs": [
    {
     "name": "stdin",
     "output_type": "stream",
     "text": [
      " 45\n"
     ]
    }
   ],
   "source": [
    "car_speed = int(input())"
   ]
  },
  {
   "cell_type": "markdown",
   "id": "535646ee",
   "metadata": {},
   "source": [
    "40) Classic Fizzbuzz Problem \n",
    "\n",
    "Write a Python program which iterates the integers from 1 to 50. \n",
    "- For multiples of three print \"Fizz\" \n",
    "- For the multiples of five print \"Buzz\". \n",
    "- For numbers which are multiples of both three and five print \"FizzBuzz\".\n",
    "\n",
    "*Hint* Remember your [elif](https://www.tutorialsteacher.com/python/python-if-elif) statements."
   ]
  },
  {
   "cell_type": "code",
   "execution_count": 144,
   "id": "f28c55f2",
   "metadata": {},
   "outputs": [
    {
     "name": "stdout",
     "output_type": "stream",
     "text": [
      "1\n",
      "2\n",
      "Fizz\n",
      "4\n",
      "Buzz\n",
      "Fizz\n",
      "7\n",
      "8\n",
      "Fizz\n",
      "Buzz\n",
      "11\n",
      "Fizz\n",
      "13\n",
      "14\n",
      "FizzBuzz\n",
      "16\n",
      "17\n",
      "Fizz\n",
      "19\n",
      "Buzz\n",
      "Fizz\n",
      "22\n",
      "23\n",
      "Fizz\n",
      "Buzz\n",
      "26\n",
      "Fizz\n",
      "28\n",
      "29\n",
      "FizzBuzz\n",
      "31\n",
      "32\n",
      "Fizz\n",
      "34\n",
      "Buzz\n",
      "Fizz\n",
      "37\n",
      "38\n",
      "Fizz\n",
      "Buzz\n",
      "41\n",
      "Fizz\n",
      "43\n",
      "44\n",
      "FizzBuzz\n",
      "46\n",
      "47\n",
      "Fizz\n",
      "49\n"
     ]
    }
   ],
   "source": [
    "for i in range(1, 50):\n",
    "    if i % 15 == 0:\n",
    "        print('FizzBuzz')\n",
    "    elif i % 3 == 0:\n",
    "        print('Fizz')\n",
    "    elif i % 5 == 0:\n",
    "        print('Buzz')\n",
    "    else:\n",
    "        print(i)"
   ]
  },
  {
   "cell_type": "code",
   "execution_count": null,
   "id": "c863a650-6705-4c81-a3f1-d0c0217ed377",
   "metadata": {},
   "outputs": [],
   "source": []
  }
 ],
 "metadata": {
  "kernelspec": {
   "display_name": "Python 3 (ipykernel)",
   "language": "python",
   "name": "python3"
  },
  "language_info": {
   "codemirror_mode": {
    "name": "ipython",
    "version": 3
   },
   "file_extension": ".py",
   "mimetype": "text/x-python",
   "name": "python",
   "nbconvert_exporter": "python",
   "pygments_lexer": "ipython3",
   "version": "3.9.7"
  }
 },
 "nbformat": 4,
 "nbformat_minor": 5
}
